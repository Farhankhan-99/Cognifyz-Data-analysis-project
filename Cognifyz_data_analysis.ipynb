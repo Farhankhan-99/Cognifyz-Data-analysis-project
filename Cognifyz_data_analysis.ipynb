{
 "cells": [
  {
   "cell_type": "markdown",
   "id": "385914fe",
   "metadata": {},
   "source": [
    "# 📊 Cognifyz INTERNSHIP PROGRAM                                                                           \n",
    "\n",
    "### Data Analysis"
   ]
  },
  {
   "cell_type": "markdown",
   "id": "01b8df52",
   "metadata": {},
   "source": [
    "---\n"
   ]
  },
  {
   "cell_type": "markdown",
   "id": "2159c1fa",
   "metadata": {},
   "source": [
    "# Level 1 "
   ]
  },
  {
   "cell_type": "code",
   "execution_count": 1,
   "id": "06fda556",
   "metadata": {},
   "outputs": [],
   "source": [
    "# Importing important libraries\n",
    "\n",
    "import pandas as pd\n",
    "import numpy as np\n",
    "import matplotlib.pyplot as plt\n",
    "import seaborn as sns"
   ]
  },
  {
   "cell_type": "code",
   "execution_count": 2,
   "id": "c9d335b4",
   "metadata": {},
   "outputs": [
    {
     "data": {
      "text/html": [
       "<div>\n",
       "<style scoped>\n",
       "    .dataframe tbody tr th:only-of-type {\n",
       "        vertical-align: middle;\n",
       "    }\n",
       "\n",
       "    .dataframe tbody tr th {\n",
       "        vertical-align: top;\n",
       "    }\n",
       "\n",
       "    .dataframe thead th {\n",
       "        text-align: right;\n",
       "    }\n",
       "</style>\n",
       "<table border=\"1\" class=\"dataframe\">\n",
       "  <thead>\n",
       "    <tr style=\"text-align: right;\">\n",
       "      <th></th>\n",
       "      <th>Restaurant ID</th>\n",
       "      <th>Restaurant Name</th>\n",
       "      <th>Country Code</th>\n",
       "      <th>City</th>\n",
       "      <th>Address</th>\n",
       "      <th>Locality</th>\n",
       "      <th>Locality Verbose</th>\n",
       "      <th>Longitude</th>\n",
       "      <th>Latitude</th>\n",
       "      <th>Cuisines</th>\n",
       "      <th>...</th>\n",
       "      <th>Currency</th>\n",
       "      <th>Has Table booking</th>\n",
       "      <th>Has Online delivery</th>\n",
       "      <th>Is delivering now</th>\n",
       "      <th>Switch to order menu</th>\n",
       "      <th>Price range</th>\n",
       "      <th>Aggregate rating</th>\n",
       "      <th>Rating color</th>\n",
       "      <th>Rating text</th>\n",
       "      <th>Votes</th>\n",
       "    </tr>\n",
       "  </thead>\n",
       "  <tbody>\n",
       "    <tr>\n",
       "      <th>0</th>\n",
       "      <td>6317637</td>\n",
       "      <td>Le Petit Souffle</td>\n",
       "      <td>162</td>\n",
       "      <td>Makati City</td>\n",
       "      <td>Third Floor, Century City Mall, Kalayaan Avenu...</td>\n",
       "      <td>Century City Mall, Poblacion, Makati City</td>\n",
       "      <td>Century City Mall, Poblacion, Makati City, Mak...</td>\n",
       "      <td>121.027535</td>\n",
       "      <td>14.565443</td>\n",
       "      <td>French, Japanese, Desserts</td>\n",
       "      <td>...</td>\n",
       "      <td>Botswana Pula(P)</td>\n",
       "      <td>Yes</td>\n",
       "      <td>No</td>\n",
       "      <td>No</td>\n",
       "      <td>No</td>\n",
       "      <td>3</td>\n",
       "      <td>4.8</td>\n",
       "      <td>Dark Green</td>\n",
       "      <td>Excellent</td>\n",
       "      <td>314</td>\n",
       "    </tr>\n",
       "  </tbody>\n",
       "</table>\n",
       "<p>1 rows × 21 columns</p>\n",
       "</div>"
      ],
      "text/plain": [
       "   Restaurant ID   Restaurant Name  Country Code         City  \\\n",
       "0        6317637  Le Petit Souffle           162  Makati City   \n",
       "\n",
       "                                             Address  \\\n",
       "0  Third Floor, Century City Mall, Kalayaan Avenu...   \n",
       "\n",
       "                                    Locality  \\\n",
       "0  Century City Mall, Poblacion, Makati City   \n",
       "\n",
       "                                    Locality Verbose   Longitude   Latitude  \\\n",
       "0  Century City Mall, Poblacion, Makati City, Mak...  121.027535  14.565443   \n",
       "\n",
       "                     Cuisines  ...          Currency Has Table booking  \\\n",
       "0  French, Japanese, Desserts  ...  Botswana Pula(P)               Yes   \n",
       "\n",
       "  Has Online delivery Is delivering now Switch to order menu Price range  \\\n",
       "0                  No                No                   No           3   \n",
       "\n",
       "   Aggregate rating  Rating color Rating text Votes  \n",
       "0               4.8    Dark Green   Excellent   314  \n",
       "\n",
       "[1 rows x 21 columns]"
      ]
     },
     "execution_count": 2,
     "metadata": {},
     "output_type": "execute_result"
    }
   ],
   "source": [
    "# Import the dataset\n",
    "\n",
    "df=pd.read_csv(\"C:\\\\Users\\\\farha\\\\Downloads\\\\Dataset .csv\",header=0)\n",
    "df.head(1)\n"
   ]
  },
  {
   "cell_type": "markdown",
   "id": "371a5f15",
   "metadata": {},
   "source": [
    "### Initial Data Exploration (Before Cleaning) "
   ]
  },
  {
   "cell_type": "code",
   "execution_count": 3,
   "id": "517b4aa3",
   "metadata": {},
   "outputs": [
    {
     "data": {
      "text/plain": [
       "(9551, 21)"
      ]
     },
     "execution_count": 3,
     "metadata": {},
     "output_type": "execute_result"
    }
   ],
   "source": [
    "df.shape"
   ]
  },
  {
   "cell_type": "code",
   "execution_count": 4,
   "id": "9ae7e7df",
   "metadata": {},
   "outputs": [
    {
     "data": {
      "text/plain": [
       "Index(['Restaurant ID', 'Restaurant Name', 'Country Code', 'City', 'Address',\n",
       "       'Locality', 'Locality Verbose', 'Longitude', 'Latitude', 'Cuisines',\n",
       "       'Average Cost for two', 'Currency', 'Has Table booking',\n",
       "       'Has Online delivery', 'Is delivering now', 'Switch to order menu',\n",
       "       'Price range', 'Aggregate rating', 'Rating color', 'Rating text',\n",
       "       'Votes'],\n",
       "      dtype='object')"
      ]
     },
     "execution_count": 4,
     "metadata": {},
     "output_type": "execute_result"
    }
   ],
   "source": [
    "df.columns"
   ]
  },
  {
   "cell_type": "code",
   "execution_count": 5,
   "id": "28ae07fd",
   "metadata": {},
   "outputs": [
    {
     "name": "stdout",
     "output_type": "stream",
     "text": [
      "<class 'pandas.core.frame.DataFrame'>\n",
      "RangeIndex: 9551 entries, 0 to 9550\n",
      "Data columns (total 21 columns):\n",
      " #   Column                Non-Null Count  Dtype  \n",
      "---  ------                --------------  -----  \n",
      " 0   Restaurant ID         9551 non-null   int64  \n",
      " 1   Restaurant Name       9551 non-null   object \n",
      " 2   Country Code          9551 non-null   int64  \n",
      " 3   City                  9551 non-null   object \n",
      " 4   Address               9551 non-null   object \n",
      " 5   Locality              9551 non-null   object \n",
      " 6   Locality Verbose      9551 non-null   object \n",
      " 7   Longitude             9551 non-null   float64\n",
      " 8   Latitude              9551 non-null   float64\n",
      " 9   Cuisines              9542 non-null   object \n",
      " 10  Average Cost for two  9551 non-null   int64  \n",
      " 11  Currency              9551 non-null   object \n",
      " 12  Has Table booking     9551 non-null   object \n",
      " 13  Has Online delivery   9551 non-null   object \n",
      " 14  Is delivering now     9551 non-null   object \n",
      " 15  Switch to order menu  9551 non-null   object \n",
      " 16  Price range           9551 non-null   int64  \n",
      " 17  Aggregate rating      9551 non-null   float64\n",
      " 18  Rating color          9551 non-null   object \n",
      " 19  Rating text           9551 non-null   object \n",
      " 20  Votes                 9551 non-null   int64  \n",
      "dtypes: float64(3), int64(5), object(13)\n",
      "memory usage: 1.5+ MB\n"
     ]
    }
   ],
   "source": [
    "df.info()"
   ]
  },
  {
   "cell_type": "code",
   "execution_count": 6,
   "id": "be19ca0f",
   "metadata": {},
   "outputs": [
    {
     "data": {
      "text/html": [
       "<div>\n",
       "<style scoped>\n",
       "    .dataframe tbody tr th:only-of-type {\n",
       "        vertical-align: middle;\n",
       "    }\n",
       "\n",
       "    .dataframe tbody tr th {\n",
       "        vertical-align: top;\n",
       "    }\n",
       "\n",
       "    .dataframe thead th {\n",
       "        text-align: right;\n",
       "    }\n",
       "</style>\n",
       "<table border=\"1\" class=\"dataframe\">\n",
       "  <thead>\n",
       "    <tr style=\"text-align: right;\">\n",
       "      <th></th>\n",
       "      <th>Restaurant ID</th>\n",
       "      <th>Country Code</th>\n",
       "      <th>Longitude</th>\n",
       "      <th>Latitude</th>\n",
       "      <th>Average Cost for two</th>\n",
       "      <th>Price range</th>\n",
       "      <th>Aggregate rating</th>\n",
       "      <th>Votes</th>\n",
       "    </tr>\n",
       "  </thead>\n",
       "  <tbody>\n",
       "    <tr>\n",
       "      <th>count</th>\n",
       "      <td>9.551000e+03</td>\n",
       "      <td>9551.000000</td>\n",
       "      <td>9551.000000</td>\n",
       "      <td>9551.000000</td>\n",
       "      <td>9551.000000</td>\n",
       "      <td>9551.000000</td>\n",
       "      <td>9551.000000</td>\n",
       "      <td>9551.000000</td>\n",
       "    </tr>\n",
       "    <tr>\n",
       "      <th>mean</th>\n",
       "      <td>9.051128e+06</td>\n",
       "      <td>18.365616</td>\n",
       "      <td>64.126574</td>\n",
       "      <td>25.854381</td>\n",
       "      <td>1199.210763</td>\n",
       "      <td>1.804837</td>\n",
       "      <td>2.666370</td>\n",
       "      <td>156.909748</td>\n",
       "    </tr>\n",
       "    <tr>\n",
       "      <th>std</th>\n",
       "      <td>8.791521e+06</td>\n",
       "      <td>56.750546</td>\n",
       "      <td>41.467058</td>\n",
       "      <td>11.007935</td>\n",
       "      <td>16121.183073</td>\n",
       "      <td>0.905609</td>\n",
       "      <td>1.516378</td>\n",
       "      <td>430.169145</td>\n",
       "    </tr>\n",
       "    <tr>\n",
       "      <th>min</th>\n",
       "      <td>5.300000e+01</td>\n",
       "      <td>1.000000</td>\n",
       "      <td>-157.948486</td>\n",
       "      <td>-41.330428</td>\n",
       "      <td>0.000000</td>\n",
       "      <td>1.000000</td>\n",
       "      <td>0.000000</td>\n",
       "      <td>0.000000</td>\n",
       "    </tr>\n",
       "    <tr>\n",
       "      <th>25%</th>\n",
       "      <td>3.019625e+05</td>\n",
       "      <td>1.000000</td>\n",
       "      <td>77.081343</td>\n",
       "      <td>28.478713</td>\n",
       "      <td>250.000000</td>\n",
       "      <td>1.000000</td>\n",
       "      <td>2.500000</td>\n",
       "      <td>5.000000</td>\n",
       "    </tr>\n",
       "    <tr>\n",
       "      <th>50%</th>\n",
       "      <td>6.004089e+06</td>\n",
       "      <td>1.000000</td>\n",
       "      <td>77.191964</td>\n",
       "      <td>28.570469</td>\n",
       "      <td>400.000000</td>\n",
       "      <td>2.000000</td>\n",
       "      <td>3.200000</td>\n",
       "      <td>31.000000</td>\n",
       "    </tr>\n",
       "    <tr>\n",
       "      <th>75%</th>\n",
       "      <td>1.835229e+07</td>\n",
       "      <td>1.000000</td>\n",
       "      <td>77.282006</td>\n",
       "      <td>28.642758</td>\n",
       "      <td>700.000000</td>\n",
       "      <td>2.000000</td>\n",
       "      <td>3.700000</td>\n",
       "      <td>131.000000</td>\n",
       "    </tr>\n",
       "    <tr>\n",
       "      <th>max</th>\n",
       "      <td>1.850065e+07</td>\n",
       "      <td>216.000000</td>\n",
       "      <td>174.832089</td>\n",
       "      <td>55.976980</td>\n",
       "      <td>800000.000000</td>\n",
       "      <td>4.000000</td>\n",
       "      <td>4.900000</td>\n",
       "      <td>10934.000000</td>\n",
       "    </tr>\n",
       "  </tbody>\n",
       "</table>\n",
       "</div>"
      ],
      "text/plain": [
       "       Restaurant ID  Country Code    Longitude     Latitude  \\\n",
       "count   9.551000e+03   9551.000000  9551.000000  9551.000000   \n",
       "mean    9.051128e+06     18.365616    64.126574    25.854381   \n",
       "std     8.791521e+06     56.750546    41.467058    11.007935   \n",
       "min     5.300000e+01      1.000000  -157.948486   -41.330428   \n",
       "25%     3.019625e+05      1.000000    77.081343    28.478713   \n",
       "50%     6.004089e+06      1.000000    77.191964    28.570469   \n",
       "75%     1.835229e+07      1.000000    77.282006    28.642758   \n",
       "max     1.850065e+07    216.000000   174.832089    55.976980   \n",
       "\n",
       "       Average Cost for two  Price range  Aggregate rating         Votes  \n",
       "count           9551.000000  9551.000000       9551.000000   9551.000000  \n",
       "mean            1199.210763     1.804837          2.666370    156.909748  \n",
       "std            16121.183073     0.905609          1.516378    430.169145  \n",
       "min                0.000000     1.000000          0.000000      0.000000  \n",
       "25%              250.000000     1.000000          2.500000      5.000000  \n",
       "50%              400.000000     2.000000          3.200000     31.000000  \n",
       "75%              700.000000     2.000000          3.700000    131.000000  \n",
       "max           800000.000000     4.000000          4.900000  10934.000000  "
      ]
     },
     "execution_count": 6,
     "metadata": {},
     "output_type": "execute_result"
    }
   ],
   "source": [
    "df.describe()"
   ]
  },
  {
   "cell_type": "code",
   "execution_count": 7,
   "id": "0181f607",
   "metadata": {},
   "outputs": [
    {
     "data": {
      "text/plain": [
       "Restaurant ID             int64\n",
       "Restaurant Name          object\n",
       "Country Code              int64\n",
       "City                     object\n",
       "Address                  object\n",
       "Locality                 object\n",
       "Locality Verbose         object\n",
       "Longitude               float64\n",
       "Latitude                float64\n",
       "Cuisines                 object\n",
       "Average Cost for two      int64\n",
       "Currency                 object\n",
       "Has Table booking        object\n",
       "Has Online delivery      object\n",
       "Is delivering now        object\n",
       "Switch to order menu     object\n",
       "Price range               int64\n",
       "Aggregate rating        float64\n",
       "Rating color             object\n",
       "Rating text              object\n",
       "Votes                     int64\n",
       "dtype: object"
      ]
     },
     "execution_count": 7,
     "metadata": {},
     "output_type": "execute_result"
    }
   ],
   "source": [
    "df.dtypes"
   ]
  },
  {
   "cell_type": "code",
   "execution_count": 8,
   "id": "b94716ea",
   "metadata": {},
   "outputs": [
    {
     "data": {
      "text/plain": [
       "Restaurant ID           0\n",
       "Restaurant Name         0\n",
       "Country Code            0\n",
       "City                    0\n",
       "Address                 0\n",
       "Locality                0\n",
       "Locality Verbose        0\n",
       "Longitude               0\n",
       "Latitude                0\n",
       "Cuisines                9\n",
       "Average Cost for two    0\n",
       "Currency                0\n",
       "Has Table booking       0\n",
       "Has Online delivery     0\n",
       "Is delivering now       0\n",
       "Switch to order menu    0\n",
       "Price range             0\n",
       "Aggregate rating        0\n",
       "Rating color            0\n",
       "Rating text             0\n",
       "Votes                   0\n",
       "dtype: int64"
      ]
     },
     "execution_count": 8,
     "metadata": {},
     "output_type": "execute_result"
    }
   ],
   "source": [
    "df.isnull().sum()"
   ]
  },
  {
   "cell_type": "code",
   "execution_count": 9,
   "id": "272af5b2",
   "metadata": {},
   "outputs": [
    {
     "data": {
      "text/plain": [
       "np.int64(0)"
      ]
     },
     "execution_count": 9,
     "metadata": {},
     "output_type": "execute_result"
    }
   ],
   "source": [
    "# To  check if there is duplicate values or not \n",
    "df.duplicated().sum()"
   ]
  },
  {
   "cell_type": "markdown",
   "id": "8995c634",
   "metadata": {},
   "source": [
    "### Data Cleaning "
   ]
  },
  {
   "cell_type": "code",
   "execution_count": 10,
   "id": "64bfbfc1",
   "metadata": {},
   "outputs": [],
   "source": [
    "# to Strip all object (string) columns\n",
    "df[df.select_dtypes(include='object').columns]=df.select_dtypes(include='object').apply(lambda x: x.str.strip())\n",
    "\n",
    "# to replace missing values in 'Cuisines' column with 'Unknown' to handle null entries\n",
    "df['Cuisines'] = df['Cuisines'].fillna('Unknown')\n"
   ]
  },
  {
   "cell_type": "code",
   "execution_count": 11,
   "id": "b5680639",
   "metadata": {},
   "outputs": [
    {
     "name": "stdout",
     "output_type": "stream",
     "text": [
      "<class 'pandas.core.frame.DataFrame'>\n",
      "RangeIndex: 9551 entries, 0 to 9550\n",
      "Data columns (total 21 columns):\n",
      " #   Column                Non-Null Count  Dtype  \n",
      "---  ------                --------------  -----  \n",
      " 0   Restaurant ID         9551 non-null   int64  \n",
      " 1   Restaurant Name       9551 non-null   object \n",
      " 2   Country Code          9551 non-null   int64  \n",
      " 3   City                  9551 non-null   object \n",
      " 4   Address               9551 non-null   object \n",
      " 5   Locality              9551 non-null   object \n",
      " 6   Locality Verbose      9551 non-null   object \n",
      " 7   Longitude             9551 non-null   float64\n",
      " 8   Latitude              9551 non-null   float64\n",
      " 9   Cuisines              9551 non-null   object \n",
      " 10  Average Cost for two  9551 non-null   int64  \n",
      " 11  Currency              9551 non-null   object \n",
      " 12  Has Table booking     9551 non-null   object \n",
      " 13  Has Online delivery   9551 non-null   object \n",
      " 14  Is delivering now     9551 non-null   object \n",
      " 15  Switch to order menu  9551 non-null   object \n",
      " 16  Price range           9551 non-null   int64  \n",
      " 17  Aggregate rating      9551 non-null   float64\n",
      " 18  Rating color          9551 non-null   object \n",
      " 19  Rating text           9551 non-null   object \n",
      " 20  Votes                 9551 non-null   int64  \n",
      "dtypes: float64(3), int64(5), object(13)\n",
      "memory usage: 1.5+ MB\n"
     ]
    }
   ],
   "source": [
    "df.info()"
   ]
  },
  {
   "cell_type": "code",
   "execution_count": null,
   "id": "f67d84fa",
   "metadata": {},
   "outputs": [],
   "source": []
  },
  {
   "cell_type": "markdown",
   "id": "2a09594d",
   "metadata": {},
   "source": [
    "# Exporting the Cleaned Dataset\n",
    "\n",
    "After completing the data cleaning process, we export the cleaned dataset to avoid reprocessing and to use it directly for analysis in future steps. This is a best practice in data projects as it ensures data consistency, saves time, and enables easy sharing or submission.\n",
    "\n",
    "\n"
   ]
  },
  {
   "cell_type": "code",
   "execution_count": 12,
   "id": "743e453b",
   "metadata": {},
   "outputs": [],
   "source": [
    "df.to_csv('cleaned_dataset.csv',index=False)"
   ]
  },
  {
   "cell_type": "markdown",
   "id": "84b6f6c1",
   "metadata": {},
   "source": [
    "# Importing the Cleaned Dataset\n",
    "\n",
    "After exporting the cleaned dataset, we can import it again for analysis. This ensures we’re working with consistent and preprocessed data without repeating the cleaning steps.\n",
    "\n",
    "\n"
   ]
  },
  {
   "cell_type": "code",
   "execution_count": 13,
   "id": "8d334b4a",
   "metadata": {},
   "outputs": [
    {
     "data": {
      "text/plain": [
       "(9551, 21)"
      ]
     },
     "execution_count": 13,
     "metadata": {},
     "output_type": "execute_result"
    }
   ],
   "source": [
    "import pandas as pd\n",
    "\n",
    "data=pd.read_csv(\"cleaned_dataset.csv\",header=0)\n",
    "data.shape"
   ]
  },
  {
   "cell_type": "markdown",
   "id": "8e830b49",
   "metadata": {},
   "source": [
    " ---"
   ]
  },
  {
   "cell_type": "markdown",
   "id": "46d4fed3",
   "metadata": {},
   "source": [
    "##  Level 1 – Task 1: Top Cuisines\n",
    "\n",
    "### 🎯 Objective:\n",
    "- Determine the top three most\n",
    "common cuisines in the dataset.\n",
    "- Calculate the percentage of restaurants that serve each of these top cuisines."
   ]
  },
  {
   "cell_type": "code",
   "execution_count": 14,
   "id": "66e20715",
   "metadata": {},
   "outputs": [
    {
     "data": {
      "text/html": [
       "<div>\n",
       "<style scoped>\n",
       "    .dataframe tbody tr th:only-of-type {\n",
       "        vertical-align: middle;\n",
       "    }\n",
       "\n",
       "    .dataframe tbody tr th {\n",
       "        vertical-align: top;\n",
       "    }\n",
       "\n",
       "    .dataframe thead th {\n",
       "        text-align: right;\n",
       "    }\n",
       "</style>\n",
       "<table border=\"1\" class=\"dataframe\">\n",
       "  <thead>\n",
       "    <tr style=\"text-align: right;\">\n",
       "      <th></th>\n",
       "      <th>Cuisine</th>\n",
       "      <th>Counts</th>\n",
       "      <th>percentage</th>\n",
       "    </tr>\n",
       "  </thead>\n",
       "  <tbody>\n",
       "    <tr>\n",
       "      <th>0</th>\n",
       "      <td>North Indian</td>\n",
       "      <td>3960</td>\n",
       "      <td>41.46%</td>\n",
       "    </tr>\n",
       "    <tr>\n",
       "      <th>1</th>\n",
       "      <td>Chinese</td>\n",
       "      <td>2735</td>\n",
       "      <td>28.64%</td>\n",
       "    </tr>\n",
       "    <tr>\n",
       "      <th>2</th>\n",
       "      <td>Fast Food</td>\n",
       "      <td>1986</td>\n",
       "      <td>20.79%</td>\n",
       "    </tr>\n",
       "  </tbody>\n",
       "</table>\n",
       "</div>"
      ],
      "text/plain": [
       "        Cuisine  Counts percentage\n",
       "0  North Indian    3960     41.46%\n",
       "1       Chinese    2735     28.64%\n",
       "2     Fast Food    1986     20.79%"
      ]
     },
     "execution_count": 14,
     "metadata": {},
     "output_type": "execute_result"
    }
   ],
   "source": [
    "#  Split cuisines where multiple are listed.\n",
    "all_cuisines=data[\"Cuisines\"].str.split(', ').explode()\n",
    "\n",
    "\n",
    "# Count the frequency of each cuisine\n",
    "cuisine_count=all_cuisines.value_counts()\n",
    "\n",
    "\n",
    "#  Get top 3 cuisines\n",
    "top_3_cuisines=cuisine_count.head(3)\n",
    "top_3_cuisines\n",
    "\n",
    "\n",
    "# Now Calculate the percentage of restaurants that serve each of these top cuisines\n",
    "total_restaurants=len(data)\n",
    "\n",
    "percentages= (top_3_cuisines / total_restaurants)*100\n",
    "percentages\n",
    "\n",
    "\n",
    "# Combine this findings into a dataframe for better readability\n",
    "\n",
    "findings=pd.DataFrame(\n",
    "    {\n",
    "        \"Cuisine\":top_3_cuisines.index,\n",
    "        \"Counts\":top_3_cuisines.values,\n",
    "        \"percentage\":percentages.round(2).values\n",
    "        \n",
    "    }\n",
    ")\n",
    "\n",
    "findings[\"percentage\"]=findings[\"percentage\"].astype(str)+'%'\n",
    "findings\n"
   ]
  },
  {
   "cell_type": "markdown",
   "id": "14c6b713",
   "metadata": {},
   "source": [
    "###  📊 Report of Task - 1\n",
    "\n",
    "After analyzing the dataset, we identified the top 3 most common cuisines offered by restaurants. These were determined by splitting multi-cuisine entries and counting each cuisine individually.\n",
    "\n",
    "The top 3 cuisines and their distribution among restaurants are:\n",
    "\n",
    "| Cuisine       | Count | Percentage |\n",
    "|---------------|-------|------------|\n",
    "| North Indian  | 3960  | 41.46%       |\n",
    "| Chinese       | 2735  | 28.64%      |\n",
    "| Fast Food     | 1986  | 20.79%      |\n",
    "\n",
    "This shows that **North Indian cuisine** is the most commonly served, followed by **Chinese** and **Fast Food**.\n"
   ]
  },
  {
   "cell_type": "markdown",
   "id": "c6f0ad59",
   "metadata": {},
   "source": [
    "---"
   ]
  },
  {
   "cell_type": "markdown",
   "id": "e0c65618",
   "metadata": {},
   "source": [
    "# Task 2 - City Analysis"
   ]
  },
  {
   "cell_type": "markdown",
   "id": "242ff65e",
   "metadata": {},
   "source": [
    "### 🎯 Objective:\n",
    "- Identify the city with the **highest number of restaurants**.\n",
    "- Calculate the **average rating** of restaurants in each city.\n",
    "- Find out which city has the **highest average rating**.\n"
   ]
  },
  {
   "cell_type": "code",
   "execution_count": 15,
   "id": "3e35df50",
   "metadata": {},
   "outputs": [
    {
     "name": "stdout",
     "output_type": "stream",
     "text": [
      "Top City : New Delhi\n",
      "Top City Restaurant Count : 5473\n",
      "\n",
      "City with the highest number of restaurants: New Delhi with total restaurants: 5473\n",
      "\n",
      "\n",
      "Top Rated City : Inner City\n",
      "Top Average Rating Value : 4.9\n",
      "\n",
      "City with the highest average rating: Inner City with highest average rating value 4.9\n"
     ]
    }
   ],
   "source": [
    "# Count the number of restaurants in each city\n",
    "city_count = data['City'].value_counts()\n",
    "\n",
    "# Top  get top  city name \n",
    "top_city = city_count.idxmax()\n",
    "print(\"Top City :\", top_city)\n",
    "\n",
    "# Get the count of restaurants in that city\n",
    "top_city_count = city_count.max()\n",
    "print(\"Top City Restaurant Count :\", top_city_count)\n",
    "print()\n",
    "\n",
    "print(f\"City with the highest number of restaurants: {top_city} with total restaurants: {top_city_count}\")\n",
    "print()\n",
    "print()\n",
    "\n",
    "# to get average rating for each city\n",
    "avg_rating_per_city = data.groupby(\"City\")[\"Aggregate rating\"].mean().round(2)\n",
    "\n",
    "# Get the city with the highest average rating\n",
    "top_avg_rating_city = avg_rating_per_city.idxmax()\n",
    "print(\"Top Rated City :\", top_avg_rating_city)\n",
    "\n",
    "\n",
    "# Get the highest average rating value\n",
    "top_avg_rating = avg_rating_per_city.max()\n",
    "print(\"Top Average Rating Value :\", top_avg_rating)\n",
    "print()\n",
    "\n",
    "print(f\"City with the highest average rating: {top_avg_rating_city} with highest average rating value {top_avg_rating}\")\n"
   ]
  },
  {
   "cell_type": "markdown",
   "id": "a575adb8",
   "metadata": {},
   "source": [
    "### 📊 Report of Task - 2"
   ]
  },
  {
   "cell_type": "markdown",
   "id": "feef0e94",
   "metadata": {},
   "source": [
    "### City Analysis – Results\n",
    "\n",
    "- **Top City by Number of Restaurants**\n",
    "  - Top City: New Delhi\n",
    "  - Total Restaurants: 5473\n",
    "  - New Delhi has the highest number of restaurants in the dataset.\n",
    "\n",
    "- **Top City by Average Rating**\n",
    "  - Top Rated City: Inner City\n",
    "  - Highest Average Rating: 4.9\n",
    "  - Inner City has the highest average restaurant rating."
   ]
  },
  {
   "cell_type": "markdown",
   "id": "2bd90d7a",
   "metadata": {},
   "source": [
    "---"
   ]
  },
  {
   "cell_type": "markdown",
   "id": "c7bba2cc",
   "metadata": {},
   "source": [
    "# Task 3 : Price Range Distribution\n",
    "\n",
    "### 🎯 Objective:\n",
    "\n",
    "- Create a histogram or bar chart to\n",
    "visualize the distribution of price ranges\n",
    "among the restaurants.\n",
    "\n",
    "- Calculate the percentage of restaurants\n",
    "in each price range category.\n"
   ]
  },
  {
   "cell_type": "code",
   "execution_count": 16,
   "id": "18746efc",
   "metadata": {},
   "outputs": [
    {
     "data": {
      "image/png": "[encoded data removed]",
      "text/plain": [
       "<Figure size 1000x500 with 1 Axes>"
      ]
     },
     "metadata": {},
     "output_type": "display_data"
    }
   ],
   "source": [
    "import matplotlib.pyplot as plt\n",
    "import seaborn as sns\n",
    "\n",
    "# To get restaurant counts of each price range  \n",
    "restaurants_count_by_PriceRange=data.groupby('Price range')['Restaurant ID'].count()\n",
    "\n",
    "plt.figure(figsize=(10,5))\n",
    "# Bar plot\n",
    "sns.barplot(x=restaurants_count_by_PriceRange.index,y=restaurants_count_by_PriceRange.values,palette='cool',hue=restaurants_count_by_PriceRange)\n",
    "plt.title('Bar Chart of Price Range Distribution',fontweight=\"bold\")\n",
    "plt.xlabel('Price Range',fontweight=\"bold\")\n",
    "plt.ylabel('Number of Restaurants',fontweight=\"bold\")\n",
    "plt.legend()\n",
    "\n",
    "plt.tight_layout()\n",
    "plt.show()"
   ]
  },
  {
   "cell_type": "code",
   "execution_count": 17,
   "id": "edc0746f",
   "metadata": {},
   "outputs": [
    {
     "data": {
      "text/html": [
       "<div>\n",
       "<style scoped>\n",
       "    .dataframe tbody tr th:only-of-type {\n",
       "        vertical-align: middle;\n",
       "    }\n",
       "\n",
       "    .dataframe tbody tr th {\n",
       "        vertical-align: top;\n",
       "    }\n",
       "\n",
       "    .dataframe thead th {\n",
       "        text-align: right;\n",
       "    }\n",
       "</style>\n",
       "<table border=\"1\" class=\"dataframe\">\n",
       "  <thead>\n",
       "    <tr style=\"text-align: right;\">\n",
       "      <th></th>\n",
       "      <th>price range</th>\n",
       "      <th>total Restaurants</th>\n",
       "      <th>Percentage</th>\n",
       "    </tr>\n",
       "  </thead>\n",
       "  <tbody>\n",
       "    <tr>\n",
       "      <th>0</th>\n",
       "      <td>1</td>\n",
       "      <td>4444</td>\n",
       "      <td>46.53</td>\n",
       "    </tr>\n",
       "    <tr>\n",
       "      <th>1</th>\n",
       "      <td>2</td>\n",
       "      <td>3113</td>\n",
       "      <td>32.59</td>\n",
       "    </tr>\n",
       "    <tr>\n",
       "      <th>2</th>\n",
       "      <td>3</td>\n",
       "      <td>1408</td>\n",
       "      <td>14.74</td>\n",
       "    </tr>\n",
       "    <tr>\n",
       "      <th>3</th>\n",
       "      <td>4</td>\n",
       "      <td>586</td>\n",
       "      <td>6.14</td>\n",
       "    </tr>\n",
       "  </tbody>\n",
       "</table>\n",
       "</div>"
      ],
      "text/plain": [
       "   price range  total Restaurants  Percentage\n",
       "0            1               4444       46.53\n",
       "1            2               3113       32.59\n",
       "2            3               1408       14.74\n",
       "3            4                586        6.14"
      ]
     },
     "execution_count": 17,
     "metadata": {},
     "output_type": "execute_result"
    }
   ],
   "source": [
    "# To get precenatage of restaurant in each price range category\n",
    "\n",
    "#Count restaurants per price range\n",
    "restaurants_count_by_PriceRange\n",
    "\n",
    "# to get total_restaurants\n",
    "total_restaurants=data[\"Restaurant ID\"].count()\n",
    "\n",
    "price_range_percentage=(restaurants_count_by_PriceRange / total_restaurants)*100\n",
    "price_range_percentage\n",
    "\n",
    "result={\n",
    "    \"price range\":restaurants_count_by_PriceRange.index,\n",
    "    \"total Restaurants\":restaurants_count_by_PriceRange.values,\n",
    "    \"Percentage\":price_range_percentage.values.round(2)\n",
    "}\n",
    "\n",
    "\n",
    "insights=pd.DataFrame(result)\n",
    "insights\n"
   ]
  },
  {
   "cell_type": "markdown",
   "id": "d4b4bbfc",
   "metadata": {},
   "source": [
    "### 📊 Report of Task - 3\n",
    "\n",
    "- Most restaurants fall in **Price Range 1**, indicating affordability is common.\n",
    "- Very few restaurants are in **Price Range 4**, showing high-end dining is limited.\n",
    "\n",
    "\n",
    "### precenatage of restaurant in each price range category Table:\n",
    "\n",
    "| Price Range | Total Restaurants | Percentage |\n",
    "|-------------|-------------------|------------|\n",
    "| 1           | 4444              | 46.53%     |\n",
    "| 2           | 3113              | 32.59%     |\n",
    "| 3           | 1408              | 14.74%     |\n",
    "| 4           | 586               | 6.14%      |\n"
   ]
  },
  {
   "cell_type": "markdown",
   "id": "4d6c066e",
   "metadata": {},
   "source": [
    "---"
   ]
  },
  {
   "cell_type": "markdown",
   "id": "b0b01a4c",
   "metadata": {},
   "source": [
    "# Task 4 : Online Delivery\n",
    "\n",
    "### 🎯 Objective:\n",
    "- Determine the percentage of restaurants\n",
    "that offer online delivery.\n",
    "\n",
    "- Compare the average ratings of restaurants\n",
    "with and without online delivery.\n",
    "\n",
    "\n"
   ]
  },
  {
   "cell_type": "code",
   "execution_count": 29,
   "id": "6148df02",
   "metadata": {},
   "outputs": [
    {
     "name": "stdout",
     "output_type": "stream",
     "text": [
      "Percentage of restaurants offering online delivery: 25.66%\n"
     ]
    }
   ],
   "source": [
    "# percentage of restaurants that offer online delivery.\n",
    "\n",
    "# total_restaurants\n",
    "total_restaurants=data[\"Restaurant ID\"].count()\n",
    "\n",
    "# to get group by restaurant count by yes or no\n",
    "online_delivery_count=data.groupby(\"Has Online delivery\")['Restaurant ID'].count()\n",
    "\n",
    "# to get percentage of restaurants that offer online delivery.\n",
    "online_delivery_percentage = round( (online_delivery_count['Yes'] / total_restaurants)*100 ,2)\n",
    "\n",
    "\n",
    "print(f\"Percentage of restaurants offering online delivery: {online_delivery_percentage}%\")"
   ]
  },
  {
   "cell_type": "code",
   "execution_count": 30,
   "id": "7bcdf46f",
   "metadata": {},
   "outputs": [
    {
     "name": "stdout",
     "output_type": "stream",
     "text": [
      "Average rating with Online Delivery : 3.25\n",
      "Average rating without Online Delivery : 3.25\n"
     ]
    }
   ],
   "source": [
    "# Average rating for restaurants WITH online delivery\n",
    "avg_rating_yes = data[data['Has Online delivery'] == 'Yes']['Aggregate rating'].mean().round(2)\n",
    "print(f\"Average rating with Online Delivery : {avg_rating_yes}\")\n",
    "\n",
    "# Average rating for restaurants WITHOUT online delivery\n",
    "avg_rating_no=data[data[\"Has Online delivery\"]==\"Yes\"][\"Aggregate rating\"].mean().round(2)\n",
    "print(f\"Average rating without Online Delivery : {avg_rating_no}\")\n"
   ]
  },
  {
   "cell_type": "markdown",
   "id": "5a50a579",
   "metadata": {},
   "source": [
    "### 📊 Report of Task - 4\n",
    "\n",
    "- **Percentage of restaurants offering online delivery**: **25.66%**\n",
    "- **Average rating (Online Delivery = Yes)**: **3.25**\n",
    "- **Average rating (Online Delivery = No)**: **3.25**\n"
   ]
  },
  {
   "cell_type": "markdown",
   "id": "6418748b",
   "metadata": {},
   "source": [
    "---\n",
    "---"
   ]
  },
  {
   "cell_type": "markdown",
   "id": "3a261cec",
   "metadata": {},
   "source": [
    "---\n",
    "---\n"
   ]
  },
  {
   "cell_type": "markdown",
   "id": "40321912",
   "metadata": {},
   "source": [
    "# Level 2"
   ]
  },
  {
   "cell_type": "markdown",
   "id": "d09fb786",
   "metadata": {},
   "source": [
    "#      Task 1 : Restaurant Ratings\n",
    "\n",
    "### 🎯 Objective:\n",
    "\n",
    "- Analyze the distribution of aggregate\n",
    "ratings and determine the most common\n",
    "rating range.\n",
    "\n",
    "- Calculate the average number of votes\n",
    "received by restaurants.\n"
   ]
  },
  {
   "cell_type": "code",
   "execution_count": 20,
   "id": "15e4d62c",
   "metadata": {},
   "outputs": [
    {
     "data": {
      "image/png": "[encoded data removed]",
      "text/plain": [
       "<Figure size 1000x500 with 1 Axes>"
      ]
     },
     "metadata": {},
     "output_type": "display_data"
    }
   ],
   "source": [
    "# Analyze the distribution of aggregate ratings and determine the most common rating range.\n",
    "\n",
    "import pandas as pd \n",
    "import matplotlib.pyplot as plt\n",
    "import seaborn as sns\n",
    "\n",
    "agg_rating=data[\"Aggregate rating\"]\n",
    "\n",
    "plt.figure(figsize=(10,5))\n",
    "\n",
    "sns.histplot(x=agg_rating ,kde=True,color=\"skyblue\")\n",
    "\n",
    "plt.title(\"Distribution of Aggregate Ratings\",fontweight=\"bold\")\n",
    "plt.xlabel(\"Aggregate Rating\",fontweight=\"bold\")\n",
    "plt.ylabel(\"Number of Restaurants\",fontweight=\"bold\")\n",
    "plt.xticks(fontweight=\"bold\")\n",
    "plt.show()\n"
   ]
  },
  {
   "cell_type": "code",
   "execution_count": 21,
   "id": "3b041c9f",
   "metadata": {},
   "outputs": [
    {
     "name": "stdout",
     "output_type": "stream",
     "text": [
      "Aggregate rating\n",
      "(3, 4]    4388\n",
      "(2, 3]    1891\n",
      "(4, 5]    1114\n",
      "(1, 2]      10\n",
      "(0, 1]       0\n",
      "Name: count, dtype: int64\n",
      "\n",
      "Most common rating range: (3, 4]\n"
     ]
    }
   ],
   "source": [
    "rating_bins=pd.cut(data[\"Aggregate rating\"],bins=[0,1,2,3,4,5])\n",
    "\n",
    "range_counts=rating_bins.value_counts()\n",
    "print(range_counts)\n",
    "print()\n",
    "print(\"Most common rating range:\", range_counts.idxmax())"
   ]
  },
  {
   "cell_type": "code",
   "execution_count": 22,
   "id": "ac4ff0a6",
   "metadata": {},
   "outputs": [
    {
     "name": "stdout",
     "output_type": "stream",
     "text": [
      "average number of votes received by restaurants is :  156.91\n"
     ]
    }
   ],
   "source": [
    "# - Calculate the average number of votes received by restaurants.\n",
    "\n",
    "avg_votes=data[\"Votes\"].mean().round(2)\n",
    "\n",
    "print(\"average number of votes received by restaurants is : \",avg_votes)"
   ]
  },
  {
   "cell_type": "markdown",
   "id": "965159ab",
   "metadata": {},
   "source": [
    "### 📊 Report of Task - 1\n",
    "\n",
    "\n",
    "### Most Common Rating Range:\n",
    "- **(3, 4]** with **4388 restaurants**\n",
    "\n",
    "\n",
    "\n",
    "### Average Number of Votes:\n",
    "- **156.91 votes** per restaurant (on average)\n",
    "\n",
    "\n",
    "\n",
    "### Insight:\n",
    "The majority of restaurants fall in the **3.0 to 4.0 rating range**, suggesting most restaurants are rated as good but not excellent. The average vote count per restaurant indicates a moderate level of customer engagement."
   ]
  },
  {
   "cell_type": "markdown",
   "id": "313e6c5b",
   "metadata": {},
   "source": [
    "---"
   ]
  },
  {
   "cell_type": "markdown",
   "id": "33e32a6d",
   "metadata": {},
   "source": [
    "# Task 2: Cuisine Combination\n",
    "- Identify the most common combinations of\n",
    "cuisines in the dataset.\n",
    "- Determine if certain cuisine combinations\n",
    "tend to have higher ratings."
   ]
  },
  {
   "cell_type": "code",
   "execution_count": 23,
   "id": "bd39e0b2",
   "metadata": {},
   "outputs": [
    {
     "name": "stdout",
     "output_type": "stream",
     "text": [
      "Most 3 Common Cuisine Combinations:\n",
      "\n",
      "     Cuisine Combination  Count\n",
      "0           North Indian    936\n",
      "1  North Indian, Chinese    511\n",
      "2              Fast Food    354\n"
     ]
    }
   ],
   "source": [
    "# to get the most frequent cuisine combination from the dataset\n",
    "\n",
    "x = data[\"Cuisines\"].value_counts()\n",
    "most_common_cuisine = x.head(3).reset_index()\n",
    "most_common_cuisine.columns = [\"Cuisine Combination\", \"Count\"]\n",
    "print(\"Most 3 Common Cuisine Combinations:\")\n",
    "print()\n",
    "print(most_common_cuisine)\n"
   ]
  },
  {
   "cell_type": "code",
   "execution_count": 24,
   "id": "7109e734",
   "metadata": {},
   "outputs": [
    {
     "name": "stdout",
     "output_type": "stream",
     "text": [
      "Average Ratings by top 3 Cuisine Combination:\n",
      "\n",
      "        Cuisine Combination  Average Rating\n",
      "0             Italian, Deli             4.9\n",
      "1  American, Coffee and Tea             4.9\n",
      "2   American, BBQ, Sandwich             4.9\n"
     ]
    }
   ],
   "source": [
    "# Determine if certain cuisine combinations tend to have higher ratings.\n",
    "\n",
    "avg_rating_by_cuisine_combo=data.groupby(\"Cuisines\")[\"Aggregate rating\"].mean().round(2)\n",
    "avg_rating_by_cuisine_combo=avg_rating_by_cuisine_combo.sort_values(ascending=False).reset_index()\n",
    "avg_rating_by_cuisine_combo.columns = [\"Cuisine Combination\", \"Average Rating\"]\n",
    "print(\"Average Ratings by top 3 Cuisine Combination:\")\n",
    "print()\n",
    "print(avg_rating_by_cuisine_combo.head(3))"
   ]
  },
  {
   "cell_type": "markdown",
   "id": "c99d9e7f",
   "metadata": {},
   "source": [
    "### 📊  Report of Task 2 Cuisine Combination Insights\n",
    "\n",
    "- The most common cuisine served is **North Indian** with **936 restaurants**, followed by **North Indian, Chinese** and **Chinese** combinations.\n",
    "\n",
    "-  The highest average ratings (**4.9**) were observed for the following cuisine combinations:\n",
    "  - **Burger, Bar Food, Steak**\n",
    "  - **American, Burger, Grill**\n",
    "  - **American, Caribbean, Seafood**\n"
   ]
  },
  {
   "cell_type": "markdown",
   "id": "954d9abe",
   "metadata": {},
   "source": [
    "---\n"
   ]
  },
  {
   "cell_type": "markdown",
   "id": "0c6f2958",
   "metadata": {},
   "source": [
    "# Task 3 : Task: Geographic Analysis\n",
    "- Plot the locations of restaurants on a\n",
    "map using longitude and latitude\n",
    "coordinates.\n",
    "- Identify any patterns or clusters of\n",
    "restaurants in specific areas."
   ]
  },
  {
   "cell_type": "code",
   "execution_count": 25,
   "id": "ccdeacf4",
   "metadata": {},
   "outputs": [
    {
     "data": {
      "image/png": "[encoded data removed]",
      "text/plain": [
       "<Figure size 1500x600 with 2 Axes>"
      ]
     },
     "metadata": {},
     "output_type": "display_data"
    }
   ],
   "source": [
    "#Plot the locations of restaurants on a map using longitude and latitude coordinates.\n",
    "\n",
    "\n",
    "import seaborn as sns\n",
    "import matplotlib.pyplot as plt\n",
    "\n",
    "plt.figure(figsize=(15, 6))\n",
    "\n",
    "plt.subplot(1,2,1)\n",
    "plt.scatter(data['Longitude'], data['Latitude'], alpha=0.5, s=10)\n",
    "plt.title('Restaurant Locations',fontweight=\"bold\")\n",
    "plt.xlabel('Longitude')\n",
    "plt.ylabel('Latitude')\n",
    "plt.grid(True)\n",
    "\n",
    "\n",
    "plt.subplot(1,2,2)\n",
    "sns.kdeplot(x=data['Longitude'], y=data['Latitude'], cmap=\"Reds\", fill=True, bw_adjust=1)\n",
    "plt.title('Restaurant Density Heatmap',fontweight=\"bold\")\n",
    "plt.xlabel('Longitude')\n",
    "plt.ylabel('Latitude')\n",
    "plt.grid(True)\n",
    "plt.show()"
   ]
  },
  {
   "cell_type": "code",
   "execution_count": 1,
   "id": "48973c33",
   "metadata": {},
   "outputs": [],
   "source": [
    "# Identify any patterns or clusters of restaurants in specific areas.\n",
    "\n",
    "        # import folium\n",
    "        # from folium.plugins import MarkerCluster\n",
    "\n",
    "        # # Center map at average lat-long\n",
    "        # map_center = [data['Latitude'].mean(), data['Longitude'].mean()]\n",
    "        # restaurant_map = folium.Map(location=map_center, zoom_start=5)\n",
    "\n",
    "        # # Set fixed size for map display\n",
    "        # restaurant_map.get_root().width = \"800px\"\n",
    "        # restaurant_map.get_root().height = \"600px\"\n",
    "\n",
    "        # # Add marker cluster\n",
    "        # marker_cluster = MarkerCluster().add_to(restaurant_map)\n",
    "\n",
    "        # for index, row in data.iterrows():\n",
    "        #     folium.Marker(\n",
    "        #         location=[row['Latitude'], row['Longitude']],\n",
    "        #         popup=row['City'],\n",
    "        #         tooltip=row['Cuisines']\n",
    "        #     ).add_to(marker_cluster)\n",
    "\n",
    "        # # Show map\n",
    "        # restaurant_map\n",
    "\n"
   ]
  },
  {
   "cell_type": "markdown",
   "id": "8622bb9f",
   "metadata": {},
   "source": [
    "## 📊  Restaurant Location Analysis\n",
    "\n",
    "### 1. Scatter Plot of Restaurant Locations\n",
    "A scatter plot of restaurant coordinates (longitude and latitude) reveals that:\n",
    "- Restaurants are spread globally, but heavily clustered in specific regions.\n",
    "- India, particularly cities like Delhi, Bengaluru, and Mumbai, has the highest concentration.\n",
    "\n",
    "### 2. Restaurant Density Heatmap\n",
    "The KDE heatmap confirms:\n",
    "- A high density of restaurants is concentrated in the Delhi NCR region.\n",
    "- Other dense clusters are found in Bengaluru, Mumbai, and parts of the Middle East and Southeast Asia.\n",
    "\n",
    "### 3. Interactive Cluster Map\n",
    "Using the Folium library:\n",
    "- Major clusters are visible in Delhi (7784 restaurants), Bengaluru (1186), and Mumbai (121).\n",
    "- Smaller clusters are also seen in cities like Kolkata, Hyderabad, Singapore, and Jakarta.\n",
    "\n",
    "### Final Insights\n",
    "- **New Delhi** is the clear hotspot for restaurant locations.\n",
    "- The **majority of restaurants** are concentrated in a few **metropolitan regions**.\n",
    "- Such geographical insights can help businesses **target high-density markets** or explore **underserved areas**.\n"
   ]
  },
  {
   "cell_type": "markdown",
   "id": "ca19c979",
   "metadata": {},
   "source": [
    "---"
   ]
  },
  {
   "cell_type": "markdown",
   "id": "3a7ec1e6",
   "metadata": {},
   "source": [
    "# Task 4 :Task: Restaurant Chains\n",
    "- Identify if there are any restaurant chains\n",
    "present in the dataset.\n",
    "- Analyze the ratings and popularity of\n",
    "different restaurant chains.\n"
   ]
  },
  {
   "cell_type": "code",
   "execution_count": 27,
   "id": "57e84e6d",
   "metadata": {},
   "outputs": [
    {
     "name": "stdout",
     "output_type": "stream",
     "text": [
      "Total number of restaurant chains with more than one outlet: 734\n",
      "\n",
      "Top 5 restaurant chains with more than one outlet:\n"
     ]
    },
    {
     "data": {
      "text/html": [
       "<div>\n",
       "<style scoped>\n",
       "    .dataframe tbody tr th:only-of-type {\n",
       "        vertical-align: middle;\n",
       "    }\n",
       "\n",
       "    .dataframe tbody tr th {\n",
       "        vertical-align: top;\n",
       "    }\n",
       "\n",
       "    .dataframe thead th {\n",
       "        text-align: right;\n",
       "    }\n",
       "</style>\n",
       "<table border=\"1\" class=\"dataframe\">\n",
       "  <thead>\n",
       "    <tr style=\"text-align: right;\">\n",
       "      <th></th>\n",
       "      <th>Restaurant Name</th>\n",
       "      <th>Outlet Count</th>\n",
       "    </tr>\n",
       "  </thead>\n",
       "  <tbody>\n",
       "    <tr>\n",
       "      <th>0</th>\n",
       "      <td>Cafe Coffee Day</td>\n",
       "      <td>83</td>\n",
       "    </tr>\n",
       "    <tr>\n",
       "      <th>1</th>\n",
       "      <td>Domino's Pizza</td>\n",
       "      <td>79</td>\n",
       "    </tr>\n",
       "    <tr>\n",
       "      <th>2</th>\n",
       "      <td>Subway</td>\n",
       "      <td>63</td>\n",
       "    </tr>\n",
       "    <tr>\n",
       "      <th>3</th>\n",
       "      <td>Green Chick Chop</td>\n",
       "      <td>51</td>\n",
       "    </tr>\n",
       "    <tr>\n",
       "      <th>4</th>\n",
       "      <td>McDonald's</td>\n",
       "      <td>48</td>\n",
       "    </tr>\n",
       "  </tbody>\n",
       "</table>\n",
       "</div>"
      ],
      "text/plain": [
       "    Restaurant Name  Outlet Count\n",
       "0   Cafe Coffee Day            83\n",
       "1    Domino's Pizza            79\n",
       "2            Subway            63\n",
       "3  Green Chick Chop            51\n",
       "4        McDonald's            48"
      ]
     },
     "execution_count": 27,
     "metadata": {},
     "output_type": "execute_result"
    }
   ],
   "source": [
    "# 1 to get total number of restaurant chains with more than one outlet\n",
    "\n",
    "restaurant_counts=data[\"Restaurant Name\"].value_counts()\n",
    "total_chains=restaurant_counts[restaurant_counts >1].count()\n",
    "print(\"Total number of restaurant chains with more than one outlet:\", total_chains)\n",
    "print()\n",
    "\n",
    "# to get names of that restaurant chains (if needed)\n",
    "\n",
    "print(\"Top 5 restaurant chains with more than one outlet:\")\n",
    "chains_df = restaurant_counts[restaurant_counts > 1].reset_index()\n",
    "chains_df.columns = [\"Restaurant Name\", \"Outlet Count\"]\n",
    "chains_df.head()\n",
    "\n"
   ]
  },
  {
   "cell_type": "code",
   "execution_count": 28,
   "id": "6afbbb17",
   "metadata": {},
   "outputs": [
    {
     "name": "stdout",
     "output_type": "stream",
     "text": [
      "Analysis of Top Restaurant Chains:\n"
     ]
    },
    {
     "data": {
      "text/html": [
       "<div>\n",
       "<style scoped>\n",
       "    .dataframe tbody tr th:only-of-type {\n",
       "        vertical-align: middle;\n",
       "    }\n",
       "\n",
       "    .dataframe tbody tr th {\n",
       "        vertical-align: top;\n",
       "    }\n",
       "\n",
       "    .dataframe thead th {\n",
       "        text-align: right;\n",
       "    }\n",
       "</style>\n",
       "<table border=\"1\" class=\"dataframe\">\n",
       "  <thead>\n",
       "    <tr style=\"text-align: right;\">\n",
       "      <th></th>\n",
       "      <th>Restaurants_name</th>\n",
       "      <th>Avg_Ratings</th>\n",
       "      <th>Avg_Popularity(Votes)</th>\n",
       "    </tr>\n",
       "  </thead>\n",
       "  <tbody>\n",
       "    <tr>\n",
       "      <th>0</th>\n",
       "      <td>10 Downing Street</td>\n",
       "      <td>4.00</td>\n",
       "      <td>670</td>\n",
       "    </tr>\n",
       "    <tr>\n",
       "      <th>1</th>\n",
       "      <td>221 B Baker Street</td>\n",
       "      <td>3.37</td>\n",
       "      <td>215</td>\n",
       "    </tr>\n",
       "    <tr>\n",
       "      <th>2</th>\n",
       "      <td>34 Parkstreet Lane</td>\n",
       "      <td>3.05</td>\n",
       "      <td>31</td>\n",
       "    </tr>\n",
       "    <tr>\n",
       "      <th>3</th>\n",
       "      <td>34, Chowringhee Lane</td>\n",
       "      <td>2.79</td>\n",
       "      <td>777</td>\n",
       "    </tr>\n",
       "    <tr>\n",
       "      <th>4</th>\n",
       "      <td>4700BC Popcorn</td>\n",
       "      <td>3.50</td>\n",
       "      <td>176</td>\n",
       "    </tr>\n",
       "    <tr>\n",
       "      <th>5</th>\n",
       "      <td>6 Pack Momos</td>\n",
       "      <td>1.40</td>\n",
       "      <td>8</td>\n",
       "    </tr>\n",
       "    <tr>\n",
       "      <th>6</th>\n",
       "      <td>A Piece of Paris</td>\n",
       "      <td>3.75</td>\n",
       "      <td>81</td>\n",
       "    </tr>\n",
       "    <tr>\n",
       "      <th>7</th>\n",
       "      <td>AB's - Absolute Barbecues</td>\n",
       "      <td>4.82</td>\n",
       "      <td>13400</td>\n",
       "    </tr>\n",
       "    <tr>\n",
       "      <th>8</th>\n",
       "      <td>AB's Absolute Barbecues</td>\n",
       "      <td>4.85</td>\n",
       "      <td>3151</td>\n",
       "    </tr>\n",
       "    <tr>\n",
       "      <th>9</th>\n",
       "      <td>Aap Ki Khatir</td>\n",
       "      <td>0.00</td>\n",
       "      <td>0</td>\n",
       "    </tr>\n",
       "  </tbody>\n",
       "</table>\n",
       "</div>"
      ],
      "text/plain": [
       "            Restaurants_name  Avg_Ratings  Avg_Popularity(Votes)\n",
       "0          10 Downing Street         4.00                    670\n",
       "1         221 B Baker Street         3.37                    215\n",
       "2         34 Parkstreet Lane         3.05                     31\n",
       "3       34, Chowringhee Lane         2.79                    777\n",
       "4             4700BC Popcorn         3.50                    176\n",
       "5               6 Pack Momos         1.40                      8\n",
       "6           A Piece of Paris         3.75                     81\n",
       "7  AB's - Absolute Barbecues         4.82                  13400\n",
       "8    AB's Absolute Barbecues         4.85                   3151\n",
       "9              Aap Ki Khatir         0.00                      0"
      ]
     },
     "execution_count": 28,
     "metadata": {},
     "output_type": "execute_result"
    }
   ],
   "source": [
    "# Analyze the ratings and popularity of different restaurant chains.\n",
    "\n",
    "# to get restaurant names having chains\n",
    "chains_name=data[\"Restaurant Name\"].value_counts()\n",
    "chains_name=chains_name[chains_name > 1].index\n",
    "\n",
    "# to get only restaurant that has chains\n",
    "chains_data=data[data[\"Restaurant Name\"].isin(chains_name)]\n",
    "\n",
    "# to get  average rating and popularity (votes) for each restaurant chain\n",
    "chains_analysis = chains_data.groupby(\"Restaurant Name\").agg({\"Aggregate rating\": \"mean\", \"Votes\": \"sum\"}).round(2).reset_index()\n",
    "\n",
    "chains_analysis.columns=[\"Restaurants_name\",\"Avg_Ratings\",\"Avg_Popularity(Votes)\"]\n",
    "\n",
    "print(\"Analysis of Top Restaurant Chains:\")\n",
    "chains_analysis.head(10) # remove head to get all data"
   ]
  },
  {
   "cell_type": "markdown",
   "id": "5a937016",
   "metadata": {},
   "source": [
    "## 📊 Insights Report of Task 4 :\n",
    "\n",
    "- Total **734** restaurant  have more than 1 outlet (Chains) in the dataset.\n",
    "\n",
    "### - Top 5 Restaurant Chains by Outlet Count:\n",
    "| Restaurant Name       | Outlet Count |\n",
    "|-----------------------|--------------|\n",
    "| Cafe Coffee Day       | 83           |\n",
    "| Domino's Pizza        | 79           |\n",
    "| Subway                | 63           |\n",
    "| Green Chick Chop      | 51           |\n",
    "| McDonald's            | 48           |\n",
    "\n",
    "### - Analysis of Top Restaurant Chains:\n",
    "| Restaurants Name       | Avg Ratings | Avg Popularity (Votes) |\n",
    "|------------------------|-------------|-------------------------|\n",
    "| 10 Downing Street      | 4.00        | 670                     |\n",
    "| 221 B Baker Street     | 3.37        | 215                     |\n",
    "| 34 Parkstreet Lane     | 3.05        | 31                      |\n",
    "| 34, Chowringhee Lane   | 2.79        | 777                     |\n",
    "| 4700BC Popcorn         | 3.50        | 176                     |\n"
   ]
  },
  {
   "cell_type": "markdown",
   "id": "9fddce08",
   "metadata": {},
   "source": [
    "---"
   ]
  },
  {
   "cell_type": "markdown",
   "id": "9933f4d0",
   "metadata": {},
   "source": [
    "# Task 1 and Task 2 All levels are completed "
   ]
  },
  {
   "cell_type": "markdown",
   "id": "74eba512",
   "metadata": {},
   "source": []
  }
 ],
 "metadata": {
  "kernelspec": {
   "display_name": "Python 3",
   "language": "python",
   "name": "python3"
  },
  "language_info": {
   "codemirror_mode": {
    "name": "ipython",
    "version": 3
   },
   "file_extension": ".py",
   "mimetype": "text/x-python",
   "name": "python",
   "nbconvert_exporter": "python",
   "pygments_lexer": "ipython3",
   "version": "3.13.2"
  }
 },
 "nbformat": 4,
 "nbformat_minor": 5
}
